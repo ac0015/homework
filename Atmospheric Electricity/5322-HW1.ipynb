{
 "cells": [
  {
   "cell_type": "markdown",
   "metadata": {},
   "source": [
    "## ATMO 5322 Homework 1\n",
    "\n",
    "**Due Tuesday, 26 September 2017**\n",
    "\n",
    "Please typeset your derivations in LaTeX, so that you can print your notebook and turn it in. You may also email your notebook to me.\n",
    "\n",
    "1. Beginning with Gauss's law, show that the electric field produced by a thin sheet of charge with surface charge density $\\sigma_q$ is given by $E(z) = \\sigma_q / 2\\epsilon$.\n",
    "\n",
    "2. Derive an expression for the vertical profile of the electric field produced by an inifinitely wide slab of charge with thickness $H$ whose bottom is at a height of $z_0$ and has charge density $\\rho$.\n",
    "\n",
    "3. Complete the two function below, as described by their documentation strings (docstrings).\n",
    "\n",
    "4. Plot the electric field profile in 2. using a charge density of 1 nC/m$^3$, bottom height of 5 km, and thickness of 1 km.\n",
    "\n",
    "5. Plot the electric field profile produced by an inifinitely thin layer of charge (in isolation) at a cloud top height of 8 km for a surface charge density of .001 nC/m$^2$.\n",
    "\n",
    "6. Plot the electric field profile produced by an inifinitely thin layer of charge (in isolation) at a cloud bottom height of 1 km for a surface charge density of .001 nC/m$^2$.\n",
    "\n",
    "7. Taking into account the conductivity difference of the cloud $\\sigma_{\\mathrm{cld}}$ and the clear air $\\sigma_{\\mathrm{clr}}$, use eq. 2.4 to find an expression for the top and bottom surface charge densities. Assume that the ratio $\\alpha = \\sigma_{\\mathrm{clr}}/ \\sigma_{\\mathrm{cld}}$ of clear and cloudy air conducitivites is constant with height.\n",
    "\n",
    "8. Plot the actual electric field of the combined cloud having characteristics given by problems 4–6.\n",
    "\n",
    "9. Show that your expression for 7. reduces to that given by MacGorman and Rust Eq. 2.5 for an infinitely thin cloud: the surface charge densities have equal and opposite sign.\n",
    "\n",
    "10. Show that your code tends twoard equal and opposite surface charge densities at the upper and lower boundaries as the cloud becomes thinner."
   ]
  },
  {
   "cell_type": "code",
   "execution_count": 1,
   "metadata": {
    "collapsed": true
   },
   "outputs": [],
   "source": [
    "%matplotlib inline\n",
    "import numpy as np\n",
    "\n",
    "def background_E(z, z_0, H, rho):\n",
    "    \"\"\" \n",
    "    Given a height z, return the electric field produced by an \n",
    "    infinite horizontal slab of charge whose bottom is at z_0, top is at z_0+H\n",
    "    and with constant charge density rho.\n",
    "    \"\"\"\n",
    "    pass\n",
    "\n",
    "def screening_E(z, z_0, sigma_q):\n",
    "    \"\"\"\n",
    "    Given a height z, return the electric field produced by an\n",
    "    inifintely thin layer horizontal of charge located at height z_0, \n",
    "    with surface charge density sigma_q. \n",
    "    \"\"\"\n",
    "    pass\n",
    "\n",
    "all_z = np.arange(0, 15e3, 100.0) # Use these altitudes when making plots."
   ]
  },
  {
   "cell_type": "markdown",
   "metadata": {},
   "source": [
    "#### Problem 1\n",
    "Gauss's Law: $\\nabla\\cdot\\vec{E} = \\frac{\\rho}{\\epsilon_0}$ where $\\rho=\\sigma_q$\n",
    "<br />\n",
    "Use a cylinder here for symmetry. This means we have two faces that have a non-zero electric flux propagating through.\n",
    "<br />\n",
    "<br />\n",
    "We will use the Divergence Theorem:\n",
    "$$\\oint_\\text{sfc} \\vec{E} \\cdot d\\vec{A} = \\int_\\text{vol}(\\nabla \\cdot \\vec{E}) dV$$\n",
    "and because we know that we have two faces on the cylinder with non-zero electric flux:\n",
    "$$2\\oint_\\text{sfc} \\vec{E} \\cdot d\\vec{A} = \\int_\\text{vol}(\\nabla \\cdot \\vec{E}) dV$$\n",
    "We also know that:\n",
    "$$\\oint_\\text{sfc} \\vec{E} \\cdot \\hat n dA = \\frac{q_\\text{encl}}{\\epsilon_0}$$\n",
    "or in our case:\n",
    "$$2\\oint_\\text{sfc} \\vec{E} \\cdot \\hat n dA = \\frac{q_\\text{encl}}{\\epsilon_0}$$\n",
    "So subbing in limits:\n",
    "$$2\\oint_0^{\\pi r^2} \\vec{E} \\cdot \\hat n dA = \\frac{q_\\text{encl}}{\\epsilon_0}$$\n",
    "we get:\n",
    "$$2\\vec{E}\\pi r^2 = \\frac{q_{\\text{encl}}}{\\epsilon_0}$$\n",
    "Knowing that $q_\\text{encl} = \\sigma_q A$, or in our case $q_\\text{encl} = \\sigma_q \\pi r^2$:\n",
    "$$2\\vec{E}\\pi r^2 = \\frac{\\sigma_q \\pi r^2}{\\epsilon_0}$$\n",
    "$$\\vec{E}= \\frac{\\sigma_q \\pi r^2}{2\\pi r^2\\epsilon_0}$$\n",
    "And cancel terms for the final answer:\n",
    "$$\\vec{E}= \\frac{\\sigma_q}{2\\epsilon_0}$$"
   ]
  },
  {
   "cell_type": "markdown",
   "metadata": {
    "collapsed": true
   },
   "source": [
    "#### Problem 2"
   ]
  },
  {
   "cell_type": "code",
   "execution_count": null,
   "metadata": {
    "collapsed": true
   },
   "outputs": [],
   "source": []
  }
 ],
 "metadata": {
  "kernelspec": {
   "display_name": "Python 3",
   "language": "python",
   "name": "python3"
  },
  "language_info": {
   "codemirror_mode": {
    "name": "ipython",
    "version": 3
   },
   "file_extension": ".py",
   "mimetype": "text/x-python",
   "name": "python",
   "nbconvert_exporter": "python",
   "pygments_lexer": "ipython3",
   "version": "3.6.1"
  }
 },
 "nbformat": 4,
 "nbformat_minor": 1
}
